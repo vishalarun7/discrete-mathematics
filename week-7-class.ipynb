{
 "cells": [
  {
   "cell_type": "markdown",
   "metadata": {},
   "source": [
    "# Week 7 - Class\n",
    "\n",
    "This notebook starts with some useful code for visualising graphs and running Dijkstra's algorithm. The questions are in the section [Questions](#Questions) below.\n",
    "\n",
    "## Useful code"
   ]
  },
  {
   "cell_type": "code",
   "execution_count": 1,
   "metadata": {},
   "outputs": [],
   "source": [
    "%matplotlib inline\n",
    "import networkx as nx\n",
    "import random\n",
    "from collections import defaultdict\n",
    "import math\n",
    "import matplotlib.pyplot as plt\n",
    "infinity = float('inf')"
   ]
  },
  {
   "cell_type": "code",
   "execution_count": 2,
   "metadata": {},
   "outputs": [],
   "source": [
    "def visualise(G, W, layout=nx.spring_layout):\n",
    "    G_out = nx.DiGraph()\n",
    "    for u in G.keys():\n",
    "        G_out.add_node(str(u))\n",
    "        for v in G[u]:\n",
    "            G_out.add_edge(str(u), str(v), weight=str(W[u, v]))\n",
    "    pos = layout(G_out)\n",
    "    nx.draw_networkx(G_out, pos=pos)\n",
    "    nx.draw_networkx_edge_labels(G_out, pos=pos, edge_labels=W)\n",
    "\n",
    "def graph_from_edges(edges):\n",
    "    # assume edges = list of triples (u, v, w)\n",
    "    nodes = sorted(list(set([u for u, v, w in edges]+[v for u, v, w in edges])))\n",
    "    G = defaultdict(list)\n",
    "    W = {}\n",
    "    for u, v, w in edges:\n",
    "        G[u].append(v)\n",
    "        W[u, v] = w\n",
    "    return G, W"
   ]
  },
  {
   "cell_type": "code",
   "execution_count": 3,
   "metadata": {},
   "outputs": [],
   "source": [
    "def dijkstra(G, W, start):\n",
    "    predecessor = {start: None}   # predecessor subgraph (start has no predecessor)\n",
    "    q = {start: 0}                # priority queue for next vertices, distance to start is 0\n",
    "    shortest = {}                 # shortest paths found (none at the start)\n",
    "    # Repeatedly evaluate this cell until it says Finished!\n",
    "    while q: # are there any vertices to add?\n",
    "        # Find the lowest priority (note: this is where the data structure is inefficient!)\n",
    "        d, vertex = min((d, vertex) for vertex, d in q.items())\n",
    "        del q[vertex]\n",
    "        # Add this to the set of vertices we've finished processing\n",
    "        shortest[vertex] = d\n",
    "        # Now update the list of candidate vertices by iterating through its neighbours\n",
    "        for next_vertex in G[vertex]:\n",
    "            if next_vertex in shortest: # don't add ones we've already finished with\n",
    "                continue\n",
    "            c = q.get(next_vertex, infinity) # get the current best found if there is one, or infinity if not\n",
    "            e = d+W[vertex, next_vertex] # distance to next_vertex if you take this route\n",
    "            if e<c: # if it's better, replace it in the queue and predecessor subgraph\n",
    "                q[next_vertex] = e\n",
    "                predecessor[next_vertex] = vertex\n",
    "    return shortest, predecessor\n",
    "\n",
    "def shortest_path_subgraph(G, W, target, predecessor):\n",
    "    SG = {}\n",
    "    SW = {}\n",
    "    while predecessor[target] is not None:\n",
    "        source = predecessor[target]\n",
    "        SG[source] = [target]\n",
    "        SW[source, target] = W[source, target]\n",
    "        target = source\n",
    "    return SG, SW"
   ]
  },
  {
   "cell_type": "markdown",
   "metadata": {},
   "source": [
    "## Questions\n",
    "\n",
    "### Give an example to show that Dijkstra's algorithm fails on graphs if you allow negative weights. Why does it fail?"
   ]
  },
  {
   "cell_type": "markdown",
   "metadata": {},
   "source": [
    "### What is the shortest (weighted) path from A to D in the graph below?"
   ]
  },
  {
   "cell_type": "code",
   "execution_count": 6,
   "metadata": {},
   "outputs": [
    {
     "data": {
      "image/png": "[encoded data removed]",
      "text/plain": [
       "<Figure size 640x480 with 1 Axes>"
      ]
     },
     "metadata": {},
     "output_type": "display_data"
    }
   ],
   "source": [
    "edges_problematic = [\n",
    "    ('A', 'B', 1),\n",
    "    ('B', 'C', -3),\n",
    "    ('C', 'A', 1),\n",
    "    ('B', 'D', 1),\n",
    "    ('C', 'D', 5),\n",
    "]\n",
    "visualise(*graph_from_edges(edges_problematic), layout=nx.planar_layout)"
   ]
  },
  {
   "cell_type": "markdown",
   "metadata": {},
   "source": [
    "### Design an algorithm (using the hints below) that can find the shortest paths from a single source to all destinations even if negative weights are allowed, and will raise an error if this cannot be done. Verify that this works on your example, and the example given above.\n",
    "\n",
    "You should use the following data structures. The map ``shortest[v]`` stores the current best distance from the start to the vertex ``v``. The map ``predecessor[v]`` gives the previous vertex on the path from the start vertex to ``v`` for the shortest path found so far (assuming such a path has been found).\n",
    "\n",
    "The relaxation operation on an edge $(u, v)$ with weight $w$ should check if the shortest path found so far from the start to $u$ and then from $u$ to $v$ is better than the shortest path found so far from the start to $v$, and if so, update the data structures. This operation is also used in Dijkstra's algorithm.\n",
    "\n",
    "What happens if you relax every edge in the graph?\n",
    "\n",
    "How many times should you do this? Think about the largest number of possible vertices in a shortest weighted path in the graph.\n",
    "\n",
    "How can you detect if there is a problem?"
   ]
  },
  {
   "cell_type": "markdown",
   "metadata": {},
   "source": [
    "### What is the complexity of this algorithm?"
   ]
  }
 ],
 "metadata": {
  "kernelspec": {
   "display_name": "Python 3.11.0 ('dmclass')",
   "language": "python",
   "name": "python3"
  },
  "language_info": {
   "codemirror_mode": {
    "name": "ipython",
    "version": 3
   },
   "file_extension": ".py",
   "mimetype": "text/x-python",
   "name": "python",
   "nbconvert_exporter": "python",
   "pygments_lexer": "ipython3",
   "version": "3.11.0"
  },
  "vscode": {
   "interpreter": {
    "hash": "6a49734ee071ffa0c8c241132785defaa79e59e5d82f90ac60edfabf8372010d"
   }
  }
 },
 "nbformat": 4,
 "nbformat_minor": 4
}
