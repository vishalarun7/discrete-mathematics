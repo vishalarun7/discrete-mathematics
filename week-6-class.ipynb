{
 "cells": [
  {
   "cell_type": "markdown",
   "metadata": {},
   "source": [
    "The advertising company \"Greedy Oligarchs & Other Grubby Lowdown Evildoers\" has $n$ clients and wants to maximise their revenues before their initial public offering in $T$ days. They decide to concentrate each day on a single advertising campaign for a single client. For example, on day 1 they might advertise for client 3, on day 2 for client 7 and day 3 back to client 3 again. Some clients are bigger than others and so make more money, but repeatedly advertising for the same clients has diminishing returns. The first day of advertising for client $i$ they will make $c_i$. The second day of advertising for the same client, $c_i/2$, the third day $c_i/4$ and so on, at day $k$ for client $i$ they will make $c_i/2^k$, so it might make sense for them to advertise one day with one client, and then another day with another client, and so on.\n",
    "\n",
    "1. Devise a greedy algorithm to maximise their profit, but do not worry about efficiency of your program for the moment. Describe your program in words.\n",
    "\n",
    "2. Prove that the greedy choice property holds.\n",
    "\n",
    "3. What is the complexity of your algorithm? Note you should give your answer in terms of $n$ and $T$. (This two variable complexity notation is not examinable.)\n",
    "\n",
    "4. (optional) Look up the [Fibonacci heap priority queue](https://en.wikipedia.org/wiki/Fibonacci_heap). Use this to improve your algorithm. Write code or pseudocode, and compute the complexity of your algorithm. Find a solution when ``c=[2, 3, 5]`` and ``T=10``."
   ]
  }
 ],
 "metadata": {
  "kernelspec": {
   "display_name": "Python 3 (ipykernel)",
   "language": "python",
   "name": "python3"
  },
  "language_info": {
   "codemirror_mode": {
    "name": "ipython",
    "version": 3
   },
   "file_extension": ".py",
   "mimetype": "text/x-python",
   "name": "python",
   "nbconvert_exporter": "python",
   "pygments_lexer": "ipython3",
   "version": "3.10.4"
  }
 },
 "nbformat": 4,
 "nbformat_minor": 4
}
